{
 "cells": [
  {
   "cell_type": "markdown",
   "id": "f8b598c0-53e0-4a8c-a47c-68c714b95ad2",
   "metadata": {},
   "source": [
    "## # Task 5: Auto Tagging Support Tickets Using LLM"
   ]
  },
  {
   "cell_type": "code",
   "execution_count": 1,
   "id": "c99195c3-7fce-41da-a3ed-9393f0355995",
   "metadata": {},
   "outputs": [
    {
     "name": "stdout",
     "output_type": "stream",
     "text": [
      "Requirement already satisfied: transformers in c:\\users\\khizar junaid\\anaconda3\\lib\\site-packages (4.56.1)\n",
      "Requirement already satisfied: filelock in c:\\users\\khizar junaid\\anaconda3\\lib\\site-packages (from transformers) (3.13.1)\n",
      "Requirement already satisfied: huggingface-hub<1.0,>=0.34.0 in c:\\users\\khizar junaid\\anaconda3\\lib\\site-packages (from transformers) (0.34.4)\n",
      "Requirement already satisfied: numpy>=1.17 in c:\\users\\khizar junaid\\anaconda3\\lib\\site-packages (from transformers) (1.26.4)\n",
      "Requirement already satisfied: packaging>=20.0 in c:\\users\\khizar junaid\\anaconda3\\lib\\site-packages (from transformers) (24.1)\n",
      "Requirement already satisfied: pyyaml>=5.1 in c:\\users\\khizar junaid\\anaconda3\\lib\\site-packages (from transformers) (6.0.1)\n",
      "Requirement already satisfied: regex!=2019.12.17 in c:\\users\\khizar junaid\\anaconda3\\lib\\site-packages (from transformers) (2024.9.11)\n",
      "Requirement already satisfied: requests in c:\\users\\khizar junaid\\anaconda3\\lib\\site-packages (from transformers) (2.32.3)\n",
      "Requirement already satisfied: tokenizers<=0.23.0,>=0.22.0 in c:\\users\\khizar junaid\\anaconda3\\lib\\site-packages (from transformers) (0.22.0)\n",
      "Requirement already satisfied: safetensors>=0.4.3 in c:\\users\\khizar junaid\\anaconda3\\lib\\site-packages (from transformers) (0.6.2)\n",
      "Requirement already satisfied: tqdm>=4.27 in c:\\users\\khizar junaid\\anaconda3\\lib\\site-packages (from transformers) (4.66.5)\n",
      "Requirement already satisfied: fsspec>=2023.5.0 in c:\\users\\khizar junaid\\anaconda3\\lib\\site-packages (from huggingface-hub<1.0,>=0.34.0->transformers) (2024.6.1)\n",
      "Requirement already satisfied: typing-extensions>=3.7.4.3 in c:\\users\\khizar junaid\\anaconda3\\lib\\site-packages (from huggingface-hub<1.0,>=0.34.0->transformers) (4.11.0)\n",
      "Requirement already satisfied: colorama in c:\\users\\khizar junaid\\anaconda3\\lib\\site-packages (from tqdm>=4.27->transformers) (0.4.6)\n",
      "Requirement already satisfied: charset-normalizer<4,>=2 in c:\\users\\khizar junaid\\anaconda3\\lib\\site-packages (from requests->transformers) (3.3.2)\n",
      "Requirement already satisfied: idna<4,>=2.5 in c:\\users\\khizar junaid\\anaconda3\\lib\\site-packages (from requests->transformers) (3.7)\n",
      "Requirement already satisfied: urllib3<3,>=1.21.1 in c:\\users\\khizar junaid\\anaconda3\\lib\\site-packages (from requests->transformers) (2.2.3)\n",
      "Requirement already satisfied: certifi>=2017.4.17 in c:\\users\\khizar junaid\\anaconda3\\lib\\site-packages (from requests->transformers) (2024.8.30)\n",
      "Requirement already satisfied: torch in c:\\users\\khizar junaid\\anaconda3\\lib\\site-packages (2.7.1)\n",
      "Requirement already satisfied: filelock in c:\\users\\khizar junaid\\anaconda3\\lib\\site-packages (from torch) (3.13.1)\n",
      "Requirement already satisfied: typing-extensions>=4.10.0 in c:\\users\\khizar junaid\\anaconda3\\lib\\site-packages (from torch) (4.11.0)\n",
      "Requirement already satisfied: sympy>=1.13.3 in c:\\users\\khizar junaid\\anaconda3\\lib\\site-packages (from torch) (1.14.0)\n",
      "Requirement already satisfied: networkx in c:\\users\\khizar junaid\\anaconda3\\lib\\site-packages (from torch) (3.3)\n",
      "Requirement already satisfied: jinja2 in c:\\users\\khizar junaid\\anaconda3\\lib\\site-packages (from torch) (3.1.4)\n",
      "Requirement already satisfied: fsspec in c:\\users\\khizar junaid\\anaconda3\\lib\\site-packages (from torch) (2024.6.1)\n",
      "Requirement already satisfied: setuptools in c:\\users\\khizar junaid\\anaconda3\\lib\\site-packages (from torch) (75.1.0)\n",
      "Requirement already satisfied: mpmath<1.4,>=1.1.0 in c:\\users\\khizar junaid\\anaconda3\\lib\\site-packages (from sympy>=1.13.3->torch) (1.3.0)\n",
      "Requirement already satisfied: MarkupSafe>=2.0 in c:\\users\\khizar junaid\\anaconda3\\lib\\site-packages (from jinja2->torch) (2.1.3)\n"
     ]
    }
   ],
   "source": [
    "!pip install --upgrade transformers #installing required packages\n",
    "!pip install torch"
   ]
  },
  {
   "cell_type": "code",
   "execution_count": 2,
   "id": "2ca29544-e842-4d50-95d5-b465b651e486",
   "metadata": {},
   "outputs": [],
   "source": [
    "import os\n",
    "os.environ[\"HF_HUB_DISABLE_SYMLINKS_WARNING\"] = \"1\" #disabling warnings for a clean run\n"
   ]
  },
  {
   "cell_type": "code",
   "execution_count": 3,
   "id": "14bbd249-4166-47e3-b556-bff01a318ade",
   "metadata": {},
   "outputs": [
    {
     "name": "stdout",
     "output_type": "stream",
     "text": [
      "Requirement already satisfied: huggingface_hub[hf_xet] in c:\\users\\khizar junaid\\anaconda3\\lib\\site-packages (0.34.4)Note: you may need to restart the kernel to use updated packages.\n",
      "\n",
      "Requirement already satisfied: filelock in c:\\users\\khizar junaid\\anaconda3\\lib\\site-packages (from huggingface_hub[hf_xet]) (3.13.1)\n",
      "Requirement already satisfied: fsspec>=2023.5.0 in c:\\users\\khizar junaid\\anaconda3\\lib\\site-packages (from huggingface_hub[hf_xet]) (2024.6.1)\n",
      "Requirement already satisfied: packaging>=20.9 in c:\\users\\khizar junaid\\anaconda3\\lib\\site-packages (from huggingface_hub[hf_xet]) (24.1)\n",
      "Requirement already satisfied: pyyaml>=5.1 in c:\\users\\khizar junaid\\anaconda3\\lib\\site-packages (from huggingface_hub[hf_xet]) (6.0.1)\n",
      "Requirement already satisfied: requests in c:\\users\\khizar junaid\\anaconda3\\lib\\site-packages (from huggingface_hub[hf_xet]) (2.32.3)\n",
      "Requirement already satisfied: tqdm>=4.42.1 in c:\\users\\khizar junaid\\anaconda3\\lib\\site-packages (from huggingface_hub[hf_xet]) (4.66.5)\n",
      "Requirement already satisfied: typing-extensions>=3.7.4.3 in c:\\users\\khizar junaid\\anaconda3\\lib\\site-packages (from huggingface_hub[hf_xet]) (4.11.0)\n",
      "Requirement already satisfied: hf-xet<2.0.0,>=1.1.2 in c:\\users\\khizar junaid\\anaconda3\\lib\\site-packages (from huggingface_hub[hf_xet]) (1.1.9)\n",
      "Requirement already satisfied: colorama in c:\\users\\khizar junaid\\anaconda3\\lib\\site-packages (from tqdm>=4.42.1->huggingface_hub[hf_xet]) (0.4.6)\n",
      "Requirement already satisfied: charset-normalizer<4,>=2 in c:\\users\\khizar junaid\\anaconda3\\lib\\site-packages (from requests->huggingface_hub[hf_xet]) (3.3.2)\n",
      "Requirement already satisfied: idna<4,>=2.5 in c:\\users\\khizar junaid\\anaconda3\\lib\\site-packages (from requests->huggingface_hub[hf_xet]) (3.7)\n",
      "Requirement already satisfied: urllib3<3,>=1.21.1 in c:\\users\\khizar junaid\\anaconda3\\lib\\site-packages (from requests->huggingface_hub[hf_xet]) (2.2.3)\n",
      "Requirement already satisfied: certifi>=2017.4.17 in c:\\users\\khizar junaid\\anaconda3\\lib\\site-packages (from requests->huggingface_hub[hf_xet]) (2024.8.30)\n"
     ]
    }
   ],
   "source": [
    "pip install huggingface_hub[hf_xet]\n"
   ]
  },
  {
   "cell_type": "code",
   "execution_count": 5,
   "id": "15fa7662-38d3-4f93-8e7d-95aae5529ef7",
   "metadata": {},
   "outputs": [
    {
     "name": "stderr",
     "output_type": "stream",
     "text": [
      "Device set to use cpu\n"
     ]
    },
    {
     "name": "stdout",
     "output_type": "stream",
     "text": [
      "🔹 Auto Tagging Support Tickets\n",
      "\n",
      "Ticket: I was charged twice for my subscription, please help.\n",
      "  - Billing Issue (0.89)\n",
      "  - Technical Problem (0.67)\n",
      "  - Feature Request (0.11)\n",
      "\n",
      "Ticket: The app keeps crashing when I upload a file.\n",
      "  - Technical Problem (0.94)\n",
      "  - Feature Request (0.44)\n",
      "  - Billing Issue (0.36)\n",
      "\n",
      "Ticket: I forgot my password and can’t log in.\n",
      "  - Account Access (0.79)\n",
      "  - Technical Problem (0.77)\n",
      "  - Billing Issue (0.21)\n",
      "\n",
      "Ticket: Can you add a dark mode feature?\n",
      "  - Feature Request (0.96)\n",
      "  - Technical Problem (0.46)\n",
      "  - Other (0.23)\n",
      "\n",
      "Ticket: Where can I find my invoice?\n",
      "  - Billing Issue (0.95)\n",
      "  - Account Access (0.04)\n",
      "  - Technical Problem (0.03)\n",
      "\n"
     ]
    }
   ],
   "source": [
    "# We will use Hugging Face's pipeline for Zero-Shot Classification\n",
    "\n",
    "from transformers import pipeline\n",
    "\n",
    "# Load pre-trained model for zero-shot classification\n",
    "classifier = pipeline(\"zero-shot-classification\", model=\"facebook/bart-large-mnli\")\n",
    "\n",
    "# Example support tickets dataset\n",
    "tickets = [\n",
    "    \"I was charged twice for my subscription, please help.\",\n",
    "    \"The app keeps crashing when I upload a file.\",\n",
    "    \"I forgot my password and can’t log in.\",\n",
    "    \"Can you add a dark mode feature?\",\n",
    "    \"Where can I find my invoice?\"\n",
    "]\n",
    "\n",
    "# Possible categories (tags)\n",
    "labels = [\"Billing Issue\", \"Technical Problem\", \"Account Access\", \"Feature Request\", \"Other\"]\n",
    "\n",
    "print(\"🔹 Auto Tagging Support Tickets\\n\")\n",
    "\n",
    "for ticket in tickets:\n",
    "    # Run classification\n",
    "    result = classifier(ticket, candidate_labels=labels, multi_label=True)\n",
    "\n",
    "    # Get labels sorted by score (highest first)\n",
    "    sorted_results = sorted(zip(result[\"labels\"], result[\"scores\"]), key=lambda x: x[1], reverse=True)\n",
    "\n",
    "    # Extract top 3\n",
    "    top_3 = sorted_results[:3]\n",
    "\n",
    "    print(f\"Ticket: {ticket}\")\n",
    "    for tag, score in top_3:\n",
    "        print(f\"  - {tag} ({score:.2f})\")\n",
    "    print()\n"
   ]
  }
 ],
 "metadata": {
  "kernelspec": {
   "display_name": "Python 3 (ipykernel)",
   "language": "python",
   "name": "python3"
  },
  "language_info": {
   "codemirror_mode": {
    "name": "ipython",
    "version": 3
   },
   "file_extension": ".py",
   "mimetype": "text/x-python",
   "name": "python",
   "nbconvert_exporter": "python",
   "pygments_lexer": "ipython3",
   "version": "3.12.7"
  }
 },
 "nbformat": 4,
 "nbformat_minor": 5
}
